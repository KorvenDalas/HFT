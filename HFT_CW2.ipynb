{
  "nbformat": 4,
  "nbformat_minor": 0,
  "metadata": {
    "colab": {
      "provenance": [],
      "authorship_tag": "ABX9TyMBpBE/Bdnh3FuLxeGAL/GW",
      "include_colab_link": true
    },
    "kernelspec": {
      "name": "python3",
      "display_name": "Python 3"
    },
    "language_info": {
      "name": "python"
    }
  },
  "cells": [
    {
      "cell_type": "markdown",
      "metadata": {
        "id": "view-in-github",
        "colab_type": "text"
      },
      "source": [
        "<a href=\"https://colab.research.google.com/github/KorvenDalas/HFT/blob/main/HFT_CW2.ipynb\" target=\"_parent\"><img src=\"https://colab.research.google.com/assets/colab-badge.svg\" alt=\"Open In Colab\"/></a>"
      ]
    },
    {
      "cell_type": "code",
      "source": [
        "pip install linearmodels"
      ],
      "metadata": {
        "colab": {
          "base_uri": "https://localhost:8080/"
        },
        "id": "XMle1T8p21qQ",
        "outputId": "7a14f0a5-e8ab-425c-9a4a-76b9f22caa68"
      },
      "execution_count": 1,
      "outputs": [
        {
          "output_type": "stream",
          "name": "stdout",
          "text": [
            "Collecting linearmodels\n",
            "  Downloading linearmodels-6.1-cp311-cp311-manylinux_2_17_x86_64.manylinux2014_x86_64.whl.metadata (7.9 kB)\n",
            "Requirement already satisfied: numpy<3,>=1.22.3 in /usr/local/lib/python3.11/dist-packages (from linearmodels) (2.0.2)\n",
            "Requirement already satisfied: pandas>=1.4.0 in /usr/local/lib/python3.11/dist-packages (from linearmodels) (2.2.2)\n",
            "Requirement already satisfied: scipy>=1.8.0 in /usr/local/lib/python3.11/dist-packages (from linearmodels) (1.14.1)\n",
            "Requirement already satisfied: statsmodels>=0.13.0 in /usr/local/lib/python3.11/dist-packages (from linearmodels) (0.14.4)\n",
            "Collecting mypy-extensions>=0.4 (from linearmodels)\n",
            "  Downloading mypy_extensions-1.0.0-py3-none-any.whl.metadata (1.1 kB)\n",
            "Requirement already satisfied: Cython>=3.0.10 in /usr/local/lib/python3.11/dist-packages (from linearmodels) (3.0.12)\n",
            "Collecting pyhdfe>=0.1 (from linearmodels)\n",
            "  Downloading pyhdfe-0.2.0-py3-none-any.whl.metadata (4.0 kB)\n",
            "Collecting formulaic>=1.0.0 (from linearmodels)\n",
            "  Downloading formulaic-1.1.1-py3-none-any.whl.metadata (6.9 kB)\n",
            "Collecting setuptools-scm<9.0.0,>=8.0.0 (from setuptools-scm[toml]<9.0.0,>=8.0.0->linearmodels)\n",
            "  Downloading setuptools_scm-8.2.0-py3-none-any.whl.metadata (6.8 kB)\n",
            "Collecting interface-meta>=1.2.0 (from formulaic>=1.0.0->linearmodels)\n",
            "  Downloading interface_meta-1.3.0-py3-none-any.whl.metadata (6.7 kB)\n",
            "Requirement already satisfied: typing-extensions>=4.2.0 in /usr/local/lib/python3.11/dist-packages (from formulaic>=1.0.0->linearmodels) (4.13.0)\n",
            "Requirement already satisfied: wrapt>=1.0 in /usr/local/lib/python3.11/dist-packages (from formulaic>=1.0.0->linearmodels) (1.17.2)\n",
            "Requirement already satisfied: python-dateutil>=2.8.2 in /usr/local/lib/python3.11/dist-packages (from pandas>=1.4.0->linearmodels) (2.8.2)\n",
            "Requirement already satisfied: pytz>=2020.1 in /usr/local/lib/python3.11/dist-packages (from pandas>=1.4.0->linearmodels) (2025.2)\n",
            "Requirement already satisfied: tzdata>=2022.7 in /usr/local/lib/python3.11/dist-packages (from pandas>=1.4.0->linearmodels) (2025.2)\n",
            "Requirement already satisfied: packaging>=20 in /usr/local/lib/python3.11/dist-packages (from setuptools-scm<9.0.0,>=8.0.0->setuptools-scm[toml]<9.0.0,>=8.0.0->linearmodels) (24.2)\n",
            "Requirement already satisfied: setuptools>=61 in /usr/local/lib/python3.11/dist-packages (from setuptools-scm<9.0.0,>=8.0.0->setuptools-scm[toml]<9.0.0,>=8.0.0->linearmodels) (75.2.0)\n",
            "Requirement already satisfied: patsy>=0.5.6 in /usr/local/lib/python3.11/dist-packages (from statsmodels>=0.13.0->linearmodels) (1.0.1)\n",
            "Requirement already satisfied: six>=1.5 in /usr/local/lib/python3.11/dist-packages (from python-dateutil>=2.8.2->pandas>=1.4.0->linearmodels) (1.17.0)\n",
            "Downloading linearmodels-6.1-cp311-cp311-manylinux_2_17_x86_64.manylinux2014_x86_64.whl (1.7 MB)\n",
            "\u001b[2K   \u001b[90m━━━━━━━━━━━━━━━━━━━━━━━━━━━━━━━━━━━━━━━━\u001b[0m \u001b[32m1.7/1.7 MB\u001b[0m \u001b[31m15.1 MB/s\u001b[0m eta \u001b[36m0:00:00\u001b[0m\n",
            "\u001b[?25hDownloading formulaic-1.1.1-py3-none-any.whl (115 kB)\n",
            "\u001b[2K   \u001b[90m━━━━━━━━━━━━━━━━━━━━━━━━━━━━━━━━━━━━━━━━\u001b[0m \u001b[32m115.7/115.7 kB\u001b[0m \u001b[31m10.2 MB/s\u001b[0m eta \u001b[36m0:00:00\u001b[0m\n",
            "\u001b[?25hDownloading mypy_extensions-1.0.0-py3-none-any.whl (4.7 kB)\n",
            "Downloading pyhdfe-0.2.0-py3-none-any.whl (19 kB)\n",
            "Downloading setuptools_scm-8.2.0-py3-none-any.whl (43 kB)\n",
            "\u001b[2K   \u001b[90m━━━━━━━━━━━━━━━━━━━━━━━━━━━━━━━━━━━━━━━━\u001b[0m \u001b[32m43.9/43.9 kB\u001b[0m \u001b[31m3.8 MB/s\u001b[0m eta \u001b[36m0:00:00\u001b[0m\n",
            "\u001b[?25hDownloading interface_meta-1.3.0-py3-none-any.whl (14 kB)\n",
            "Installing collected packages: setuptools-scm, mypy-extensions, interface-meta, pyhdfe, formulaic, linearmodels\n",
            "Successfully installed formulaic-1.1.1 interface-meta-1.3.0 linearmodels-6.1 mypy-extensions-1.0.0 pyhdfe-0.2.0 setuptools-scm-8.2.0\n"
          ]
        }
      ]
    },
    {
      "cell_type": "code",
      "source": [
        "import numpy as np\n",
        "import pandas as pd\n",
        "import statsmodels.api as sm\n",
        "from linearmodels.system import SUR\n",
        "from scipy.stats import f"
      ],
      "metadata": {
        "id": "aVs1iyAeGCeu"
      },
      "execution_count": 2,
      "outputs": []
    },
    {
      "cell_type": "markdown",
      "source": [
        "# Q1"
      ],
      "metadata": {
        "id": "YEuot_Pcjsta"
      }
    },
    {
      "cell_type": "code",
      "execution_count": 3,
      "metadata": {
        "id": "xO8fg9TDFOli"
      },
      "outputs": [],
      "source": [
        "# Read the df from GitHub\n",
        "df = pd.read_csv('https://raw.githubusercontent.com/KorvenDalas/HFT/refs/heads/main/CW2_HFT_GSK_01022011.csv')"
      ]
    },
    {
      "cell_type": "code",
      "source": [
        "df = df.rename(columns = {'#RIC': 'RIC',\n",
        "                          'Date-Time': 'DateTime',\n",
        "                          'Type': 'Type',\n",
        "                          'Price': 'Price',\n",
        "                          'Volume': 'Volume',\n",
        "                          'Bid Price': 'Bid_Price',\n",
        "                          'Bid Size': 'Bid_Size',\n",
        "                          'Ask Price': 'Ask_Price',\n",
        "                          'Ask Size': 'Ask_Size',\n",
        "                          'direction': 'Direction'\n",
        "                          })"
      ],
      "metadata": {
        "id": "chZ6njNk2Hpk"
      },
      "execution_count": 4,
      "outputs": []
    },
    {
      "cell_type": "code",
      "source": [
        "# Convert 'Time' column to datetime\n",
        "df['DateTime'] = pd.to_datetime(df['DateTime'])\n",
        "\n",
        "# Create new column with time in seconds (including fractional seconds) since midnight\n",
        "df['Time_S'] = df['DateTime'].dt.hour * 3600 + df['DateTime'].dt.minute * 60 + df['DateTime'].dt.second + df['DateTime'].dt.microsecond / 1e6\n",
        "\n",
        "# Set 'DateTime' as the index\n",
        "df.set_index('DateTime', inplace = True)\n",
        "\n",
        "df.head()"
      ],
      "metadata": {
        "colab": {
          "base_uri": "https://localhost:8080/",
          "height": 344
        },
        "outputId": "b29e92ed-1de5-4699-f8ea-c40ae570e211",
        "id": "fP8-R1Fx7iCi"
      },
      "execution_count": 5,
      "outputs": [
        {
          "output_type": "execute_result",
          "data": {
            "text/plain": [
              "                                    RIC     Type   Price  Volume  Bid_Price  \\\n",
              "DateTime                                                                      \n",
              "2011-02-01 07:50:00.089774+00:00  GSK.L    Quote     NaN     NaN     1127.0   \n",
              "2011-02-01 07:50:02.746387+00:00  GSK.L    Quote     NaN     NaN     1127.0   \n",
              "2011-02-01 07:50:02.746387+00:00  GSK.L  Auction  1125.0  5726.0     1127.0   \n",
              "2011-02-01 07:50:02.746387+00:00  GSK.L    Quote     NaN     NaN     1127.0   \n",
              "2011-02-01 07:50:02.746387+00:00  GSK.L  Auction  1115.0  8252.0     1127.0   \n",
              "\n",
              "                                  Bid_Size  Ask_Price  Ask_Size  Direction  \\\n",
              "DateTime                                                                     \n",
              "2011-02-01 07:50:00.089774+00:00     135.0     1172.0    2000.0          0   \n",
              "2011-02-01 07:50:02.746387+00:00     135.0     1095.0    5726.0          0   \n",
              "2011-02-01 07:50:02.746387+00:00       NaN     1095.0       NaN          0   \n",
              "2011-02-01 07:50:02.746387+00:00     135.0     1095.0    8252.0          0   \n",
              "2011-02-01 07:50:02.746387+00:00       NaN     1095.0       NaN          0   \n",
              "\n",
              "                                        Time_S  \n",
              "DateTime                                        \n",
              "2011-02-01 07:50:00.089774+00:00  28200.089774  \n",
              "2011-02-01 07:50:02.746387+00:00  28202.746387  \n",
              "2011-02-01 07:50:02.746387+00:00  28202.746387  \n",
              "2011-02-01 07:50:02.746387+00:00  28202.746387  \n",
              "2011-02-01 07:50:02.746387+00:00  28202.746387  "
            ],
            "text/html": [
              "\n",
              "  <div id=\"df-c2421a5c-d7e3-4561-a41c-5216816938db\" class=\"colab-df-container\">\n",
              "    <div>\n",
              "<style scoped>\n",
              "    .dataframe tbody tr th:only-of-type {\n",
              "        vertical-align: middle;\n",
              "    }\n",
              "\n",
              "    .dataframe tbody tr th {\n",
              "        vertical-align: top;\n",
              "    }\n",
              "\n",
              "    .dataframe thead th {\n",
              "        text-align: right;\n",
              "    }\n",
              "</style>\n",
              "<table border=\"1\" class=\"dataframe\">\n",
              "  <thead>\n",
              "    <tr style=\"text-align: right;\">\n",
              "      <th></th>\n",
              "      <th>RIC</th>\n",
              "      <th>Type</th>\n",
              "      <th>Price</th>\n",
              "      <th>Volume</th>\n",
              "      <th>Bid_Price</th>\n",
              "      <th>Bid_Size</th>\n",
              "      <th>Ask_Price</th>\n",
              "      <th>Ask_Size</th>\n",
              "      <th>Direction</th>\n",
              "      <th>Time_S</th>\n",
              "    </tr>\n",
              "    <tr>\n",
              "      <th>DateTime</th>\n",
              "      <th></th>\n",
              "      <th></th>\n",
              "      <th></th>\n",
              "      <th></th>\n",
              "      <th></th>\n",
              "      <th></th>\n",
              "      <th></th>\n",
              "      <th></th>\n",
              "      <th></th>\n",
              "      <th></th>\n",
              "    </tr>\n",
              "  </thead>\n",
              "  <tbody>\n",
              "    <tr>\n",
              "      <th>2011-02-01 07:50:00.089774+00:00</th>\n",
              "      <td>GSK.L</td>\n",
              "      <td>Quote</td>\n",
              "      <td>NaN</td>\n",
              "      <td>NaN</td>\n",
              "      <td>1127.0</td>\n",
              "      <td>135.0</td>\n",
              "      <td>1172.0</td>\n",
              "      <td>2000.0</td>\n",
              "      <td>0</td>\n",
              "      <td>28200.089774</td>\n",
              "    </tr>\n",
              "    <tr>\n",
              "      <th>2011-02-01 07:50:02.746387+00:00</th>\n",
              "      <td>GSK.L</td>\n",
              "      <td>Quote</td>\n",
              "      <td>NaN</td>\n",
              "      <td>NaN</td>\n",
              "      <td>1127.0</td>\n",
              "      <td>135.0</td>\n",
              "      <td>1095.0</td>\n",
              "      <td>5726.0</td>\n",
              "      <td>0</td>\n",
              "      <td>28202.746387</td>\n",
              "    </tr>\n",
              "    <tr>\n",
              "      <th>2011-02-01 07:50:02.746387+00:00</th>\n",
              "      <td>GSK.L</td>\n",
              "      <td>Auction</td>\n",
              "      <td>1125.0</td>\n",
              "      <td>5726.0</td>\n",
              "      <td>1127.0</td>\n",
              "      <td>NaN</td>\n",
              "      <td>1095.0</td>\n",
              "      <td>NaN</td>\n",
              "      <td>0</td>\n",
              "      <td>28202.746387</td>\n",
              "    </tr>\n",
              "    <tr>\n",
              "      <th>2011-02-01 07:50:02.746387+00:00</th>\n",
              "      <td>GSK.L</td>\n",
              "      <td>Quote</td>\n",
              "      <td>NaN</td>\n",
              "      <td>NaN</td>\n",
              "      <td>1127.0</td>\n",
              "      <td>135.0</td>\n",
              "      <td>1095.0</td>\n",
              "      <td>8252.0</td>\n",
              "      <td>0</td>\n",
              "      <td>28202.746387</td>\n",
              "    </tr>\n",
              "    <tr>\n",
              "      <th>2011-02-01 07:50:02.746387+00:00</th>\n",
              "      <td>GSK.L</td>\n",
              "      <td>Auction</td>\n",
              "      <td>1115.0</td>\n",
              "      <td>8252.0</td>\n",
              "      <td>1127.0</td>\n",
              "      <td>NaN</td>\n",
              "      <td>1095.0</td>\n",
              "      <td>NaN</td>\n",
              "      <td>0</td>\n",
              "      <td>28202.746387</td>\n",
              "    </tr>\n",
              "  </tbody>\n",
              "</table>\n",
              "</div>\n",
              "    <div class=\"colab-df-buttons\">\n",
              "\n",
              "  <div class=\"colab-df-container\">\n",
              "    <button class=\"colab-df-convert\" onclick=\"convertToInteractive('df-c2421a5c-d7e3-4561-a41c-5216816938db')\"\n",
              "            title=\"Convert this dataframe to an interactive table.\"\n",
              "            style=\"display:none;\">\n",
              "\n",
              "  <svg xmlns=\"http://www.w3.org/2000/svg\" height=\"24px\" viewBox=\"0 -960 960 960\">\n",
              "    <path d=\"M120-120v-720h720v720H120Zm60-500h600v-160H180v160Zm220 220h160v-160H400v160Zm0 220h160v-160H400v160ZM180-400h160v-160H180v160Zm440 0h160v-160H620v160ZM180-180h160v-160H180v160Zm440 0h160v-160H620v160Z\"/>\n",
              "  </svg>\n",
              "    </button>\n",
              "\n",
              "  <style>\n",
              "    .colab-df-container {\n",
              "      display:flex;\n",
              "      gap: 12px;\n",
              "    }\n",
              "\n",
              "    .colab-df-convert {\n",
              "      background-color: #E8F0FE;\n",
              "      border: none;\n",
              "      border-radius: 50%;\n",
              "      cursor: pointer;\n",
              "      display: none;\n",
              "      fill: #1967D2;\n",
              "      height: 32px;\n",
              "      padding: 0 0 0 0;\n",
              "      width: 32px;\n",
              "    }\n",
              "\n",
              "    .colab-df-convert:hover {\n",
              "      background-color: #E2EBFA;\n",
              "      box-shadow: 0px 1px 2px rgba(60, 64, 67, 0.3), 0px 1px 3px 1px rgba(60, 64, 67, 0.15);\n",
              "      fill: #174EA6;\n",
              "    }\n",
              "\n",
              "    .colab-df-buttons div {\n",
              "      margin-bottom: 4px;\n",
              "    }\n",
              "\n",
              "    [theme=dark] .colab-df-convert {\n",
              "      background-color: #3B4455;\n",
              "      fill: #D2E3FC;\n",
              "    }\n",
              "\n",
              "    [theme=dark] .colab-df-convert:hover {\n",
              "      background-color: #434B5C;\n",
              "      box-shadow: 0px 1px 3px 1px rgba(0, 0, 0, 0.15);\n",
              "      filter: drop-shadow(0px 1px 2px rgba(0, 0, 0, 0.3));\n",
              "      fill: #FFFFFF;\n",
              "    }\n",
              "  </style>\n",
              "\n",
              "    <script>\n",
              "      const buttonEl =\n",
              "        document.querySelector('#df-c2421a5c-d7e3-4561-a41c-5216816938db button.colab-df-convert');\n",
              "      buttonEl.style.display =\n",
              "        google.colab.kernel.accessAllowed ? 'block' : 'none';\n",
              "\n",
              "      async function convertToInteractive(key) {\n",
              "        const element = document.querySelector('#df-c2421a5c-d7e3-4561-a41c-5216816938db');\n",
              "        const dataTable =\n",
              "          await google.colab.kernel.invokeFunction('convertToInteractive',\n",
              "                                                    [key], {});\n",
              "        if (!dataTable) return;\n",
              "\n",
              "        const docLinkHtml = 'Like what you see? Visit the ' +\n",
              "          '<a target=\"_blank\" href=https://colab.research.google.com/notebooks/data_table.ipynb>data table notebook</a>'\n",
              "          + ' to learn more about interactive tables.';\n",
              "        element.innerHTML = '';\n",
              "        dataTable['output_type'] = 'display_data';\n",
              "        await google.colab.output.renderOutput(dataTable, element);\n",
              "        const docLink = document.createElement('div');\n",
              "        docLink.innerHTML = docLinkHtml;\n",
              "        element.appendChild(docLink);\n",
              "      }\n",
              "    </script>\n",
              "  </div>\n",
              "\n",
              "\n",
              "<div id=\"df-92b5f218-f097-4d7b-9c5f-f12f01fbe510\">\n",
              "  <button class=\"colab-df-quickchart\" onclick=\"quickchart('df-92b5f218-f097-4d7b-9c5f-f12f01fbe510')\"\n",
              "            title=\"Suggest charts\"\n",
              "            style=\"display:none;\">\n",
              "\n",
              "<svg xmlns=\"http://www.w3.org/2000/svg\" height=\"24px\"viewBox=\"0 0 24 24\"\n",
              "     width=\"24px\">\n",
              "    <g>\n",
              "        <path d=\"M19 3H5c-1.1 0-2 .9-2 2v14c0 1.1.9 2 2 2h14c1.1 0 2-.9 2-2V5c0-1.1-.9-2-2-2zM9 17H7v-7h2v7zm4 0h-2V7h2v10zm4 0h-2v-4h2v4z\"/>\n",
              "    </g>\n",
              "</svg>\n",
              "  </button>\n",
              "\n",
              "<style>\n",
              "  .colab-df-quickchart {\n",
              "      --bg-color: #E8F0FE;\n",
              "      --fill-color: #1967D2;\n",
              "      --hover-bg-color: #E2EBFA;\n",
              "      --hover-fill-color: #174EA6;\n",
              "      --disabled-fill-color: #AAA;\n",
              "      --disabled-bg-color: #DDD;\n",
              "  }\n",
              "\n",
              "  [theme=dark] .colab-df-quickchart {\n",
              "      --bg-color: #3B4455;\n",
              "      --fill-color: #D2E3FC;\n",
              "      --hover-bg-color: #434B5C;\n",
              "      --hover-fill-color: #FFFFFF;\n",
              "      --disabled-bg-color: #3B4455;\n",
              "      --disabled-fill-color: #666;\n",
              "  }\n",
              "\n",
              "  .colab-df-quickchart {\n",
              "    background-color: var(--bg-color);\n",
              "    border: none;\n",
              "    border-radius: 50%;\n",
              "    cursor: pointer;\n",
              "    display: none;\n",
              "    fill: var(--fill-color);\n",
              "    height: 32px;\n",
              "    padding: 0;\n",
              "    width: 32px;\n",
              "  }\n",
              "\n",
              "  .colab-df-quickchart:hover {\n",
              "    background-color: var(--hover-bg-color);\n",
              "    box-shadow: 0 1px 2px rgba(60, 64, 67, 0.3), 0 1px 3px 1px rgba(60, 64, 67, 0.15);\n",
              "    fill: var(--button-hover-fill-color);\n",
              "  }\n",
              "\n",
              "  .colab-df-quickchart-complete:disabled,\n",
              "  .colab-df-quickchart-complete:disabled:hover {\n",
              "    background-color: var(--disabled-bg-color);\n",
              "    fill: var(--disabled-fill-color);\n",
              "    box-shadow: none;\n",
              "  }\n",
              "\n",
              "  .colab-df-spinner {\n",
              "    border: 2px solid var(--fill-color);\n",
              "    border-color: transparent;\n",
              "    border-bottom-color: var(--fill-color);\n",
              "    animation:\n",
              "      spin 1s steps(1) infinite;\n",
              "  }\n",
              "\n",
              "  @keyframes spin {\n",
              "    0% {\n",
              "      border-color: transparent;\n",
              "      border-bottom-color: var(--fill-color);\n",
              "      border-left-color: var(--fill-color);\n",
              "    }\n",
              "    20% {\n",
              "      border-color: transparent;\n",
              "      border-left-color: var(--fill-color);\n",
              "      border-top-color: var(--fill-color);\n",
              "    }\n",
              "    30% {\n",
              "      border-color: transparent;\n",
              "      border-left-color: var(--fill-color);\n",
              "      border-top-color: var(--fill-color);\n",
              "      border-right-color: var(--fill-color);\n",
              "    }\n",
              "    40% {\n",
              "      border-color: transparent;\n",
              "      border-right-color: var(--fill-color);\n",
              "      border-top-color: var(--fill-color);\n",
              "    }\n",
              "    60% {\n",
              "      border-color: transparent;\n",
              "      border-right-color: var(--fill-color);\n",
              "    }\n",
              "    80% {\n",
              "      border-color: transparent;\n",
              "      border-right-color: var(--fill-color);\n",
              "      border-bottom-color: var(--fill-color);\n",
              "    }\n",
              "    90% {\n",
              "      border-color: transparent;\n",
              "      border-bottom-color: var(--fill-color);\n",
              "    }\n",
              "  }\n",
              "</style>\n",
              "\n",
              "  <script>\n",
              "    async function quickchart(key) {\n",
              "      const quickchartButtonEl =\n",
              "        document.querySelector('#' + key + ' button');\n",
              "      quickchartButtonEl.disabled = true;  // To prevent multiple clicks.\n",
              "      quickchartButtonEl.classList.add('colab-df-spinner');\n",
              "      try {\n",
              "        const charts = await google.colab.kernel.invokeFunction(\n",
              "            'suggestCharts', [key], {});\n",
              "      } catch (error) {\n",
              "        console.error('Error during call to suggestCharts:', error);\n",
              "      }\n",
              "      quickchartButtonEl.classList.remove('colab-df-spinner');\n",
              "      quickchartButtonEl.classList.add('colab-df-quickchart-complete');\n",
              "    }\n",
              "    (() => {\n",
              "      let quickchartButtonEl =\n",
              "        document.querySelector('#df-92b5f218-f097-4d7b-9c5f-f12f01fbe510 button');\n",
              "      quickchartButtonEl.style.display =\n",
              "        google.colab.kernel.accessAllowed ? 'block' : 'none';\n",
              "    })();\n",
              "  </script>\n",
              "</div>\n",
              "\n",
              "    </div>\n",
              "  </div>\n"
            ],
            "application/vnd.google.colaboratory.intrinsic+json": {
              "type": "dataframe",
              "variable_name": "df",
              "summary": "{\n  \"name\": \"df\",\n  \"rows\": 55836,\n  \"fields\": [\n    {\n      \"column\": \"DateTime\",\n      \"properties\": {\n        \"dtype\": \"date\",\n        \"min\": \"2011-02-01 07:50:00.089774+00:00\",\n        \"max\": \"2011-02-01 17:03:21.116908+00:00\",\n        \"num_unique_values\": 27578,\n        \"samples\": [\n          \"2011-02-01 16:33:25.701106+00:00\",\n          \"2011-02-01 14:35:05.143847+00:00\",\n          \"2011-02-01 15:25:25.890400+00:00\"\n        ],\n        \"semantic_type\": \"\",\n        \"description\": \"\"\n      }\n    },\n    {\n      \"column\": \"RIC\",\n      \"properties\": {\n        \"dtype\": \"category\",\n        \"num_unique_values\": 1,\n        \"samples\": [\n          \"GSK.L\"\n        ],\n        \"semantic_type\": \"\",\n        \"description\": \"\"\n      }\n    },\n    {\n      \"column\": \"Type\",\n      \"properties\": {\n        \"dtype\": \"category\",\n        \"num_unique_values\": 4,\n        \"samples\": [\n          \"Auction\"\n        ],\n        \"semantic_type\": \"\",\n        \"description\": \"\"\n      }\n    },\n    {\n      \"column\": \"Price\",\n      \"properties\": {\n        \"dtype\": \"number\",\n        \"std\": 7.582444974030608,\n        \"min\": 1100.0,\n        \"max\": 1147.1425,\n        \"num_unique_values\": 204,\n        \"samples\": [\n          1129.5\n        ],\n        \"semantic_type\": \"\",\n        \"description\": \"\"\n      }\n    },\n    {\n      \"column\": \"Volume\",\n      \"properties\": {\n        \"dtype\": \"number\",\n        \"std\": 153267.42645449395,\n        \"min\": 1.0,\n        \"max\": 1597894.0,\n        \"num_unique_values\": 2183,\n        \"samples\": [\n          3845.0\n        ],\n        \"semantic_type\": \"\",\n        \"description\": \"\"\n      }\n    },\n    {\n      \"column\": \"Bid_Price\",\n      \"properties\": {\n        \"dtype\": \"number\",\n        \"std\": 10.016167503335879,\n        \"min\": 1122.5,\n        \"max\": 1212.5,\n        \"num_unique_values\": 51,\n        \"samples\": [\n          1143.5\n        ],\n        \"semantic_type\": \"\",\n        \"description\": \"\"\n      }\n    },\n    {\n      \"column\": \"Bid_Size\",\n      \"properties\": {\n        \"dtype\": \"number\",\n        \"std\": 30758.109801510534,\n        \"min\": 1.0,\n        \"max\": 917098.0,\n        \"num_unique_values\": 12775,\n        \"samples\": [\n          12664.0\n        ],\n        \"semantic_type\": \"\",\n        \"description\": \"\"\n      }\n    },\n    {\n      \"column\": \"Ask_Price\",\n      \"properties\": {\n        \"dtype\": \"number\",\n        \"std\": 9.68492265802067,\n        \"min\": 1061.0,\n        \"max\": 1172.0,\n        \"num_unique_values\": 52,\n        \"samples\": [\n          1140.0\n        ],\n        \"semantic_type\": \"\",\n        \"description\": \"\"\n      }\n    },\n    {\n      \"column\": \"Ask_Size\",\n      \"properties\": {\n        \"dtype\": \"number\",\n        \"std\": 31873.92252238301,\n        \"min\": 1.0,\n        \"max\": 837438.0,\n        \"num_unique_values\": 12770,\n        \"samples\": [\n          8256.0\n        ],\n        \"semantic_type\": \"\",\n        \"description\": \"\"\n      }\n    },\n    {\n      \"column\": \"Direction\",\n      \"properties\": {\n        \"dtype\": \"number\",\n        \"std\": 0,\n        \"min\": -1,\n        \"max\": 1,\n        \"num_unique_values\": 3,\n        \"samples\": [\n          0\n        ],\n        \"semantic_type\": \"\",\n        \"description\": \"\"\n      }\n    },\n    {\n      \"column\": \"Time_S\",\n      \"properties\": {\n        \"dtype\": \"number\",\n        \"std\": 9551.431035649817,\n        \"min\": 28200.089774,\n        \"max\": 61401.116908,\n        \"num_unique_values\": 27578,\n        \"samples\": [\n          59605.701106\n        ],\n        \"semantic_type\": \"\",\n        \"description\": \"\"\n      }\n    }\n  ]\n}"
            }
          },
          "metadata": {},
          "execution_count": 5
        }
      ]
    },
    {
      "cell_type": "code",
      "source": [
        "# Filter df based on time range\n",
        "df = df[(df['Time_S'] >= 28800) & (df['Time_S'] <= 59400)]\n",
        "\n",
        "# 28800  →  08:00 AM      = 8 * 60 * 60 seconds (market open)\n",
        "# 59400  →  04:30 PM      = 16 * 60 * 60 + 30 * 60 = 57600 + 1800 = 59400 seconds (market close)"
      ],
      "metadata": {
        "id": "ihLPkWJx7oQ8"
      },
      "execution_count": 6,
      "outputs": []
    },
    {
      "cell_type": "markdown",
      "source": [
        "## Q1.1 Midquote Series"
      ],
      "metadata": {
        "id": "hrD9xTefZRV2"
      }
    },
    {
      "cell_type": "code",
      "source": [
        "df = df.copy()\n",
        "df['Ask_Price'] = df['Ask_Price'].ffill()\n",
        "df['Bid_Price'] = df['Bid_Price'].ffill()\n",
        "df['Spread'] = df['Ask_Price'] - df['Bid_Price']\n",
        "df['Midquote'] = 0.5 * (df['Ask_Price'] + df['Bid_Price'])\n",
        "\n",
        "print(df['Midquote'].head())"
      ],
      "metadata": {
        "colab": {
          "base_uri": "https://localhost:8080/"
        },
        "id": "KGmf-topyy0Q",
        "outputId": "5485aacb-2bf3-4831-c308-ba1b00aa364d"
      },
      "execution_count": 7,
      "outputs": [
        {
          "output_type": "stream",
          "name": "stdout",
          "text": [
            "DateTime\n",
            "2011-02-01 08:00:00.235137+00:00    1128.5\n",
            "2011-02-01 08:00:00.253174+00:00    1128.5\n",
            "2011-02-01 08:00:00.359596+00:00    1128.5\n",
            "2011-02-01 08:00:00.365400+00:00    1128.5\n",
            "2011-02-01 08:00:00.365400+00:00    1128.5\n",
            "Name: Midquote, dtype: float64\n"
          ]
        }
      ]
    },
    {
      "cell_type": "markdown",
      "source": [
        "## Q1.2 Time-Weighted Daily Best Bid-Ask Spread"
      ],
      "metadata": {
        "id": "VsQt5R82Zj5T"
      }
    },
    {
      "cell_type": "code",
      "source": [
        "# Compute time change between successive rows\n",
        "timechange = df.Time_S.shift(-1) - df.Time_S\n",
        "timechange.iloc[-1] = 59400 - df['Time_S'].iloc[-1]  # Correct the last time difference\n",
        "\n",
        "# Time-weighted spread\n",
        "qspread = 10000 * (df['Ask_Price'] - df['Bid_Price']) / df['Midquote']   # in percentage\n",
        "TWqspread = np.nansum(qspread * timechange) / np.nansum(timechange)\n",
        "\n",
        "print(TWqspread)"
      ],
      "metadata": {
        "colab": {
          "base_uri": "https://localhost:8080/"
        },
        "id": "IPTzOq650jHO",
        "outputId": "333af60c-5a97-4bba-9174-6a344b29548a"
      },
      "execution_count": 8,
      "outputs": [
        {
          "output_type": "stream",
          "name": "stdout",
          "text": [
            "5.660910921553593\n"
          ]
        }
      ]
    },
    {
      "cell_type": "markdown",
      "source": [
        "## Q1.3 Time-Weighted Daily Market Depth"
      ],
      "metadata": {
        "id": "wtzfJZlRZ0lW"
      }
    },
    {
      "cell_type": "code",
      "source": [
        "# Time-Weighted Depth\n",
        "depth = df['Ask_Size'] + df['Bid_Size']\n",
        "TWdepth = np.nansum(depth * timechange) / np.nansum(timechange)\n",
        "\n",
        "print(TWdepth)"
      ],
      "metadata": {
        "colab": {
          "base_uri": "https://localhost:8080/"
        },
        "id": "4_tm0a0l4qCF",
        "outputId": "43246278-33fa-4b7a-e84e-e611f8baa19d"
      },
      "execution_count": 9,
      "outputs": [
        {
          "output_type": "stream",
          "name": "stdout",
          "text": [
            "19276.20745082458\n"
          ]
        }
      ]
    },
    {
      "cell_type": "markdown",
      "source": [
        "## Q1.4 Volume-Weighted Daily Effective Spread"
      ],
      "metadata": {
        "id": "urvbDyUZaMTW"
      }
    },
    {
      "cell_type": "code",
      "source": [
        "# Filter trades and calculate effective spread\n",
        "df['Seq'] = range(len(df))\n",
        "dfTrades = df[(df['Type'] == 'Trade')]\n",
        "espread = 10000 * 2 * (dfTrades['Direction'] * (dfTrades['Price'] - dfTrades['Midquote'])) / dfTrades['Midquote']\n",
        "VWdespread = np.nansum(espread * dfTrades['Volume']) / np.nansum(dfTrades['Volume'])\n",
        "VWdespread"
      ],
      "metadata": {
        "colab": {
          "base_uri": "https://localhost:8080/"
        },
        "id": "t6eQvyAV-0nq",
        "outputId": "aa4597a2-9ddc-4c47-9bda-9b9524f95e76"
      },
      "execution_count": 10,
      "outputs": [
        {
          "output_type": "execute_result",
          "data": {
            "text/plain": [
              "np.float64(8.842557982963504)"
            ]
          },
          "metadata": {},
          "execution_count": 10
        }
      ]
    },
    {
      "cell_type": "markdown",
      "source": [
        "## Q1.5 Volume-Weighted Daily 5-Minute Price Impact"
      ],
      "metadata": {
        "id": "pft6VcNbaTRm"
      }
    },
    {
      "cell_type": "code",
      "source": [
        "# Define time intervals\n",
        "tau = [300]  # 300s = 5m   # [0.05, 0.1, 0.5, 1, 5, 10, 30, 60, 300]\n",
        "\n",
        "# Iterate over tau to calculate next midquote and price impact\n",
        "for t in tau:\n",
        "    nexMQ = []\n",
        "    thiMQ = []\n",
        "\n",
        "    for j in dfTrades.Seq:\n",
        "        thisMQ = df.iloc[j].Midquote\n",
        "        thisSec = df.iloc[j].Time_S\n",
        "        zz = df['Time_S'] - (thisSec + 300)\n",
        "        zz=pd.concat([zz, df.Seq], axis = 1)\n",
        "        xx = zz[zz >= 0].Seq\n",
        "\n",
        "        # Get the first index where time is greater than or equal to thisSec + t\n",
        "        if not xx.empty:\n",
        "            xk = xx.iloc[0]\n",
        "        else:\n",
        "            xk = np.nan\n",
        "\n",
        "        # Handle missing values\n",
        "        if pd.isna(xk):\n",
        "            nextMQ = np.nan\n",
        "        else:\n",
        "            nextMQ = df.iloc[xk].Midquote\n",
        "\n",
        "        thiMQ.append(thisMQ)\n",
        "        nexMQ.append(nextMQ)\n",
        "\n",
        "    # Add next midquote to dfTrades if lengths match\n",
        "    if len(nexMQ) == len(dfTrades):\n",
        "        dfTrades[f'NextMQ_tau_{t}'] = nexMQ\n",
        "    else:\n",
        "        print(f\"Length mismatch for tau = {t}, skipping this tau.\")\n",
        "        continue"
      ],
      "metadata": {
        "colab": {
          "base_uri": "https://localhost:8080/"
        },
        "id": "X4YiYdtSFEzC",
        "outputId": "3f87f300-1c9a-43b7-a057-a7c51b1e1757"
      },
      "execution_count": 11,
      "outputs": [
        {
          "output_type": "stream",
          "name": "stderr",
          "text": [
            "<ipython-input-11-e20e79eaa442>:33: SettingWithCopyWarning: \n",
            "A value is trying to be set on a copy of a slice from a DataFrame.\n",
            "Try using .loc[row_indexer,col_indexer] = value instead\n",
            "\n",
            "See the caveats in the documentation: https://pandas.pydata.org/pandas-docs/stable/user_guide/indexing.html#returning-a-view-versus-a-copy\n",
            "  dfTrades[f'NextMQ_tau_{t}'] = nexMQ\n"
          ]
        }
      ]
    },
    {
      "cell_type": "code",
      "source": [
        "# Calculate realized impact\n",
        "PI = 100 * 2 * (dfTrades['Direction'] * (dfTrades['NextMQ_tau_300'] - thiMQ)) / dfTrades['Midquote']\n",
        "VWpi = np.nansum(PI * dfTrades['Volume']) / np.nansum(dfTrades['Volume'])\n",
        "\n",
        "print(f\"VWpi: {VWpi}\")"
      ],
      "metadata": {
        "colab": {
          "base_uri": "https://localhost:8080/"
        },
        "id": "A1VPMM3iGjFR",
        "outputId": "ca80f705-df33-421d-97a3-c92ca65010b8"
      },
      "execution_count": 12,
      "outputs": [
        {
          "output_type": "stream",
          "name": "stdout",
          "text": [
            "VWpi: -0.14571193136021285\n"
          ]
        }
      ]
    },
    {
      "cell_type": "markdown",
      "source": [
        "## Q1.6 Volume-Weighted Daily 5-Minute Realised Spread"
      ],
      "metadata": {
        "id": "zfSVgbQNadSu"
      }
    },
    {
      "cell_type": "code",
      "source": [
        "# Calculate realized spread\n",
        "rspread = 100 * 2 * (dfTrades['Direction'] * (dfTrades['Price'] - dfTrades['NextMQ_tau_300'])) / dfTrades['Midquote']\n",
        "VWrspread = np.nansum(rspread * dfTrades['Volume']) / np.nansum(dfTrades['Volume'])\n",
        "\n",
        "print(f\"VWrspread: {VWrspread}\")"
      ],
      "metadata": {
        "colab": {
          "base_uri": "https://localhost:8080/"
        },
        "id": "Z938NrBAam2e",
        "outputId": "2c562ce4-aa7f-4301-8178-91e033053764"
      },
      "execution_count": 13,
      "outputs": [
        {
          "output_type": "stream",
          "name": "stdout",
          "text": [
            "VWrspread: 0.23413751118984794\n"
          ]
        }
      ]
    },
    {
      "cell_type": "markdown",
      "source": [
        "## Q1.7 Daily Realised Volatility"
      ],
      "metadata": {
        "id": "cZN7_RqIa31_"
      }
    },
    {
      "cell_type": "code",
      "source": [
        "log_returns = np.log(df['Midquote'] / df['Midquote'].shift(1))\n",
        "\n",
        "# Realized volatility\n",
        "realised_volatility =  np.sqrt(np.nansum(log_returns))\n",
        "\n",
        "print(f\"Realised Volatility: {realised_volatility}\")"
      ],
      "metadata": {
        "colab": {
          "base_uri": "https://localhost:8080/"
        },
        "id": "yGq1tIBOINAK",
        "outputId": "b7537003-ed9b-4c40-ca5b-3c00b713cd10"
      },
      "execution_count": 14,
      "outputs": [
        {
          "output_type": "stream",
          "name": "stdout",
          "text": [
            "Realised Volatility: 0.11395510642592484\n"
          ]
        }
      ]
    },
    {
      "cell_type": "markdown",
      "source": [
        "## Q1.8 Tick Return Series Based on Midquote"
      ],
      "metadata": {
        "id": "grU1el7Ua-o3"
      }
    },
    {
      "cell_type": "code",
      "source": [
        "df['TickReturn'] = np.log(df['Midquote'] / df['Midquote'].shift(1))\n",
        "\n",
        "print(df['TickReturn'].head())"
      ],
      "metadata": {
        "colab": {
          "base_uri": "https://localhost:8080/"
        },
        "id": "yuxIDadJLE9h",
        "outputId": "59dd461c-6085-451b-baa5-066a946733d3"
      },
      "execution_count": 15,
      "outputs": [
        {
          "output_type": "stream",
          "name": "stdout",
          "text": [
            "DateTime\n",
            "2011-02-01 08:00:00.235137+00:00    NaN\n",
            "2011-02-01 08:00:00.253174+00:00    0.0\n",
            "2011-02-01 08:00:00.359596+00:00    0.0\n",
            "2011-02-01 08:00:00.365400+00:00    0.0\n",
            "2011-02-01 08:00:00.365400+00:00    0.0\n",
            "Name: TickReturn, dtype: float64\n"
          ]
        }
      ]
    },
    {
      "cell_type": "markdown",
      "source": [
        "## Q1.9 Return Series Based on Midquote at 5-Min Frequency"
      ],
      "metadata": {
        "id": "kEB6ysSwbHyn"
      }
    },
    {
      "cell_type": "code",
      "source": [
        "Midquote_5m = df['Midquote'].resample('5T').last()\n",
        "\n",
        "Return_5m = np.log(Midquote_5m / Midquote_5m.shift(1))\n",
        "\n",
        "df_5m = pd.DataFrame({'Midquote_5m': Midquote_5m,\n",
        "                      'Return_5m': Return_5m})\n",
        "\n",
        "print(df_5m.head())"
      ],
      "metadata": {
        "colab": {
          "base_uri": "https://localhost:8080/"
        },
        "id": "3C9nX4jQMQyI",
        "outputId": "0a3e3a1b-3217-4a6b-9be1-8ca533f781a5"
      },
      "execution_count": 16,
      "outputs": [
        {
          "output_type": "stream",
          "name": "stdout",
          "text": [
            "                           Midquote_5m  Return_5m\n",
            "DateTime                                         \n",
            "2011-02-01 08:00:00+00:00      1134.50        NaN\n",
            "2011-02-01 08:05:00+00:00      1134.00  -0.000441\n",
            "2011-02-01 08:10:00+00:00      1132.75  -0.001103\n",
            "2011-02-01 08:15:00+00:00      1130.25  -0.002209\n",
            "2011-02-01 08:20:00+00:00      1128.25  -0.001771\n"
          ]
        },
        {
          "output_type": "stream",
          "name": "stderr",
          "text": [
            "<ipython-input-16-659f3d816d03>:1: FutureWarning: 'T' is deprecated and will be removed in a future version, please use 'min' instead.\n",
            "  Midquote_5m = df['Midquote'].resample('5T').last()\n"
          ]
        }
      ]
    },
    {
      "cell_type": "markdown",
      "source": [
        "## Q1.10 Order Imbalance Series at 5-Min Frequency"
      ],
      "metadata": {
        "id": "dcrKKq7obJV_"
      }
    },
    {
      "cell_type": "code",
      "source": [
        "# Order Imbalance\n",
        "df['SignedVolume'] = df['Volume'] * df['Direction']\n",
        "OrderFlows = df['SignedVolume'].resample('5T').sum()\n",
        "TotalVolume = df['Volume'].resample('5T').sum()\n",
        "OrderImbalance = abs(OrderFlows) / TotalVolume\n",
        "\n",
        "print(OrderImbalance.head())"
      ],
      "metadata": {
        "colab": {
          "base_uri": "https://localhost:8080/"
        },
        "id": "EZOu3uIEY726",
        "outputId": "44a83ba1-2583-4f8a-823c-e671c1200c30"
      },
      "execution_count": 17,
      "outputs": [
        {
          "output_type": "stream",
          "name": "stdout",
          "text": [
            "DateTime\n",
            "2011-02-01 08:00:00+00:00    0.016421\n",
            "2011-02-01 08:05:00+00:00    0.285091\n",
            "2011-02-01 08:10:00+00:00    0.032638\n",
            "2011-02-01 08:15:00+00:00    0.119250\n",
            "2011-02-01 08:20:00+00:00    0.053576\n",
            "Freq: 5min, dtype: float64\n"
          ]
        },
        {
          "output_type": "stream",
          "name": "stderr",
          "text": [
            "<ipython-input-17-cf947a7d3b6b>:3: FutureWarning: 'T' is deprecated and will be removed in a future version, please use 'min' instead.\n",
            "  OrderFlows = df['SignedVolume'].resample('5T').sum()\n",
            "<ipython-input-17-cf947a7d3b6b>:4: FutureWarning: 'T' is deprecated and will be removed in a future version, please use 'min' instead.\n",
            "  TotalVolume = df['Volume'].resample('5T').sum()\n"
          ]
        }
      ]
    },
    {
      "cell_type": "markdown",
      "source": [
        "# Q2"
      ],
      "metadata": {
        "id": "X7pYZx5lxf0q"
      }
    },
    {
      "cell_type": "code",
      "source": [
        "dfTrades"
      ],
      "metadata": {
        "colab": {
          "base_uri": "https://localhost:8080/",
          "height": 649
        },
        "id": "6sh1Lxuz1RXU",
        "outputId": "fd6c7039-d2e5-4e0f-b7cb-4362fc610af2"
      },
      "execution_count": 18,
      "outputs": [
        {
          "output_type": "execute_result",
          "data": {
            "text/plain": [
              "                                    RIC   Type   Price    Volume  Bid_Price  \\\n",
              "DateTime                                                                      \n",
              "2011-02-01 08:00:09.059176+00:00  GSK.L  Trade  1131.0  100549.0     1196.0   \n",
              "2011-02-01 08:00:15.171723+00:00  GSK.L  Trade  1132.5     462.0     1132.5   \n",
              "2011-02-01 08:00:15.171723+00:00  GSK.L  Trade  1132.5     462.0     1132.5   \n",
              "2011-02-01 08:00:15.223623+00:00  GSK.L  Trade  1131.0     260.0     1131.0   \n",
              "2011-02-01 08:00:15.249775+00:00  GSK.L  Trade  1131.0    1067.0     1130.5   \n",
              "...                                 ...    ...     ...       ...        ...   \n",
              "2011-02-01 16:29:51.426497+00:00  GSK.L  Trade  1143.0     700.0     1143.0   \n",
              "2011-02-01 16:29:51.426497+00:00  GSK.L  Trade  1143.0    1485.0     1143.0   \n",
              "2011-02-01 16:29:51.430574+00:00  GSK.L  Trade  1143.0     300.0     1143.0   \n",
              "2011-02-01 16:29:51.430574+00:00  GSK.L  Trade  1143.0    1684.0     1143.0   \n",
              "2011-02-01 16:29:59.987777+00:00  GSK.L  Trade  1144.0      15.0     1142.5   \n",
              "\n",
              "                                  Bid_Size  Ask_Price  Ask_Size  Direction  \\\n",
              "DateTime                                                                     \n",
              "2011-02-01 08:00:09.059176+00:00       NaN     1061.0       NaN          1   \n",
              "2011-02-01 08:00:15.171723+00:00       NaN     1133.5       NaN         -1   \n",
              "2011-02-01 08:00:15.171723+00:00       NaN     1133.5       NaN         -1   \n",
              "2011-02-01 08:00:15.223623+00:00       NaN     1133.5       NaN         -1   \n",
              "2011-02-01 08:00:15.249775+00:00       NaN     1131.0       NaN          1   \n",
              "...                                    ...        ...       ...        ...   \n",
              "2011-02-01 16:29:51.426497+00:00       NaN     1144.0       NaN         -1   \n",
              "2011-02-01 16:29:51.426497+00:00       NaN     1144.0       NaN         -1   \n",
              "2011-02-01 16:29:51.430574+00:00       NaN     1144.0       NaN         -1   \n",
              "2011-02-01 16:29:51.430574+00:00       NaN     1144.0       NaN         -1   \n",
              "2011-02-01 16:29:59.987777+00:00       NaN     1144.0       NaN          1   \n",
              "\n",
              "                                        Time_S  Spread  Midquote    Seq  \\\n",
              "DateTime                                                                  \n",
              "2011-02-01 08:00:09.059176+00:00  28809.059176  -135.0   1128.50     89   \n",
              "2011-02-01 08:00:15.171723+00:00  28815.171723     1.0   1133.00    100   \n",
              "2011-02-01 08:00:15.171723+00:00  28815.171723     1.0   1133.00    101   \n",
              "2011-02-01 08:00:15.223623+00:00  28815.223623     2.5   1132.25    110   \n",
              "2011-02-01 08:00:15.249775+00:00  28815.249775     0.5   1130.75    112   \n",
              "...                                        ...     ...       ...    ...   \n",
              "2011-02-01 16:29:51.426497+00:00  59391.426497     1.0   1143.50  55333   \n",
              "2011-02-01 16:29:51.426497+00:00  59391.426497     1.0   1143.50  55334   \n",
              "2011-02-01 16:29:51.430574+00:00  59391.430574     1.0   1143.50  55335   \n",
              "2011-02-01 16:29:51.430574+00:00  59391.430574     1.0   1143.50  55336   \n",
              "2011-02-01 16:29:59.987777+00:00  59399.987777     1.5   1143.25  55345   \n",
              "\n",
              "                                  NextMQ_tau_300  \n",
              "DateTime                                          \n",
              "2011-02-01 08:00:09.059176+00:00          1128.5  \n",
              "2011-02-01 08:00:15.171723+00:00          1128.5  \n",
              "2011-02-01 08:00:15.171723+00:00          1128.5  \n",
              "2011-02-01 08:00:15.223623+00:00          1128.5  \n",
              "2011-02-01 08:00:15.249775+00:00          1128.5  \n",
              "...                                          ...  \n",
              "2011-02-01 16:29:51.426497+00:00          1128.5  \n",
              "2011-02-01 16:29:51.426497+00:00          1128.5  \n",
              "2011-02-01 16:29:51.430574+00:00          1128.5  \n",
              "2011-02-01 16:29:51.430574+00:00          1128.5  \n",
              "2011-02-01 16:29:59.987777+00:00          1128.5  \n",
              "\n",
              "[8760 rows x 14 columns]"
            ],
            "text/html": [
              "\n",
              "  <div id=\"df-e358c980-7cba-4e81-9542-0938507f1781\" class=\"colab-df-container\">\n",
              "    <div>\n",
              "<style scoped>\n",
              "    .dataframe tbody tr th:only-of-type {\n",
              "        vertical-align: middle;\n",
              "    }\n",
              "\n",
              "    .dataframe tbody tr th {\n",
              "        vertical-align: top;\n",
              "    }\n",
              "\n",
              "    .dataframe thead th {\n",
              "        text-align: right;\n",
              "    }\n",
              "</style>\n",
              "<table border=\"1\" class=\"dataframe\">\n",
              "  <thead>\n",
              "    <tr style=\"text-align: right;\">\n",
              "      <th></th>\n",
              "      <th>RIC</th>\n",
              "      <th>Type</th>\n",
              "      <th>Price</th>\n",
              "      <th>Volume</th>\n",
              "      <th>Bid_Price</th>\n",
              "      <th>Bid_Size</th>\n",
              "      <th>Ask_Price</th>\n",
              "      <th>Ask_Size</th>\n",
              "      <th>Direction</th>\n",
              "      <th>Time_S</th>\n",
              "      <th>Spread</th>\n",
              "      <th>Midquote</th>\n",
              "      <th>Seq</th>\n",
              "      <th>NextMQ_tau_300</th>\n",
              "    </tr>\n",
              "    <tr>\n",
              "      <th>DateTime</th>\n",
              "      <th></th>\n",
              "      <th></th>\n",
              "      <th></th>\n",
              "      <th></th>\n",
              "      <th></th>\n",
              "      <th></th>\n",
              "      <th></th>\n",
              "      <th></th>\n",
              "      <th></th>\n",
              "      <th></th>\n",
              "      <th></th>\n",
              "      <th></th>\n",
              "      <th></th>\n",
              "      <th></th>\n",
              "    </tr>\n",
              "  </thead>\n",
              "  <tbody>\n",
              "    <tr>\n",
              "      <th>2011-02-01 08:00:09.059176+00:00</th>\n",
              "      <td>GSK.L</td>\n",
              "      <td>Trade</td>\n",
              "      <td>1131.0</td>\n",
              "      <td>100549.0</td>\n",
              "      <td>1196.0</td>\n",
              "      <td>NaN</td>\n",
              "      <td>1061.0</td>\n",
              "      <td>NaN</td>\n",
              "      <td>1</td>\n",
              "      <td>28809.059176</td>\n",
              "      <td>-135.0</td>\n",
              "      <td>1128.50</td>\n",
              "      <td>89</td>\n",
              "      <td>1128.5</td>\n",
              "    </tr>\n",
              "    <tr>\n",
              "      <th>2011-02-01 08:00:15.171723+00:00</th>\n",
              "      <td>GSK.L</td>\n",
              "      <td>Trade</td>\n",
              "      <td>1132.5</td>\n",
              "      <td>462.0</td>\n",
              "      <td>1132.5</td>\n",
              "      <td>NaN</td>\n",
              "      <td>1133.5</td>\n",
              "      <td>NaN</td>\n",
              "      <td>-1</td>\n",
              "      <td>28815.171723</td>\n",
              "      <td>1.0</td>\n",
              "      <td>1133.00</td>\n",
              "      <td>100</td>\n",
              "      <td>1128.5</td>\n",
              "    </tr>\n",
              "    <tr>\n",
              "      <th>2011-02-01 08:00:15.171723+00:00</th>\n",
              "      <td>GSK.L</td>\n",
              "      <td>Trade</td>\n",
              "      <td>1132.5</td>\n",
              "      <td>462.0</td>\n",
              "      <td>1132.5</td>\n",
              "      <td>NaN</td>\n",
              "      <td>1133.5</td>\n",
              "      <td>NaN</td>\n",
              "      <td>-1</td>\n",
              "      <td>28815.171723</td>\n",
              "      <td>1.0</td>\n",
              "      <td>1133.00</td>\n",
              "      <td>101</td>\n",
              "      <td>1128.5</td>\n",
              "    </tr>\n",
              "    <tr>\n",
              "      <th>2011-02-01 08:00:15.223623+00:00</th>\n",
              "      <td>GSK.L</td>\n",
              "      <td>Trade</td>\n",
              "      <td>1131.0</td>\n",
              "      <td>260.0</td>\n",
              "      <td>1131.0</td>\n",
              "      <td>NaN</td>\n",
              "      <td>1133.5</td>\n",
              "      <td>NaN</td>\n",
              "      <td>-1</td>\n",
              "      <td>28815.223623</td>\n",
              "      <td>2.5</td>\n",
              "      <td>1132.25</td>\n",
              "      <td>110</td>\n",
              "      <td>1128.5</td>\n",
              "    </tr>\n",
              "    <tr>\n",
              "      <th>2011-02-01 08:00:15.249775+00:00</th>\n",
              "      <td>GSK.L</td>\n",
              "      <td>Trade</td>\n",
              "      <td>1131.0</td>\n",
              "      <td>1067.0</td>\n",
              "      <td>1130.5</td>\n",
              "      <td>NaN</td>\n",
              "      <td>1131.0</td>\n",
              "      <td>NaN</td>\n",
              "      <td>1</td>\n",
              "      <td>28815.249775</td>\n",
              "      <td>0.5</td>\n",
              "      <td>1130.75</td>\n",
              "      <td>112</td>\n",
              "      <td>1128.5</td>\n",
              "    </tr>\n",
              "    <tr>\n",
              "      <th>...</th>\n",
              "      <td>...</td>\n",
              "      <td>...</td>\n",
              "      <td>...</td>\n",
              "      <td>...</td>\n",
              "      <td>...</td>\n",
              "      <td>...</td>\n",
              "      <td>...</td>\n",
              "      <td>...</td>\n",
              "      <td>...</td>\n",
              "      <td>...</td>\n",
              "      <td>...</td>\n",
              "      <td>...</td>\n",
              "      <td>...</td>\n",
              "      <td>...</td>\n",
              "    </tr>\n",
              "    <tr>\n",
              "      <th>2011-02-01 16:29:51.426497+00:00</th>\n",
              "      <td>GSK.L</td>\n",
              "      <td>Trade</td>\n",
              "      <td>1143.0</td>\n",
              "      <td>700.0</td>\n",
              "      <td>1143.0</td>\n",
              "      <td>NaN</td>\n",
              "      <td>1144.0</td>\n",
              "      <td>NaN</td>\n",
              "      <td>-1</td>\n",
              "      <td>59391.426497</td>\n",
              "      <td>1.0</td>\n",
              "      <td>1143.50</td>\n",
              "      <td>55333</td>\n",
              "      <td>1128.5</td>\n",
              "    </tr>\n",
              "    <tr>\n",
              "      <th>2011-02-01 16:29:51.426497+00:00</th>\n",
              "      <td>GSK.L</td>\n",
              "      <td>Trade</td>\n",
              "      <td>1143.0</td>\n",
              "      <td>1485.0</td>\n",
              "      <td>1143.0</td>\n",
              "      <td>NaN</td>\n",
              "      <td>1144.0</td>\n",
              "      <td>NaN</td>\n",
              "      <td>-1</td>\n",
              "      <td>59391.426497</td>\n",
              "      <td>1.0</td>\n",
              "      <td>1143.50</td>\n",
              "      <td>55334</td>\n",
              "      <td>1128.5</td>\n",
              "    </tr>\n",
              "    <tr>\n",
              "      <th>2011-02-01 16:29:51.430574+00:00</th>\n",
              "      <td>GSK.L</td>\n",
              "      <td>Trade</td>\n",
              "      <td>1143.0</td>\n",
              "      <td>300.0</td>\n",
              "      <td>1143.0</td>\n",
              "      <td>NaN</td>\n",
              "      <td>1144.0</td>\n",
              "      <td>NaN</td>\n",
              "      <td>-1</td>\n",
              "      <td>59391.430574</td>\n",
              "      <td>1.0</td>\n",
              "      <td>1143.50</td>\n",
              "      <td>55335</td>\n",
              "      <td>1128.5</td>\n",
              "    </tr>\n",
              "    <tr>\n",
              "      <th>2011-02-01 16:29:51.430574+00:00</th>\n",
              "      <td>GSK.L</td>\n",
              "      <td>Trade</td>\n",
              "      <td>1143.0</td>\n",
              "      <td>1684.0</td>\n",
              "      <td>1143.0</td>\n",
              "      <td>NaN</td>\n",
              "      <td>1144.0</td>\n",
              "      <td>NaN</td>\n",
              "      <td>-1</td>\n",
              "      <td>59391.430574</td>\n",
              "      <td>1.0</td>\n",
              "      <td>1143.50</td>\n",
              "      <td>55336</td>\n",
              "      <td>1128.5</td>\n",
              "    </tr>\n",
              "    <tr>\n",
              "      <th>2011-02-01 16:29:59.987777+00:00</th>\n",
              "      <td>GSK.L</td>\n",
              "      <td>Trade</td>\n",
              "      <td>1144.0</td>\n",
              "      <td>15.0</td>\n",
              "      <td>1142.5</td>\n",
              "      <td>NaN</td>\n",
              "      <td>1144.0</td>\n",
              "      <td>NaN</td>\n",
              "      <td>1</td>\n",
              "      <td>59399.987777</td>\n",
              "      <td>1.5</td>\n",
              "      <td>1143.25</td>\n",
              "      <td>55345</td>\n",
              "      <td>1128.5</td>\n",
              "    </tr>\n",
              "  </tbody>\n",
              "</table>\n",
              "<p>8760 rows × 14 columns</p>\n",
              "</div>\n",
              "    <div class=\"colab-df-buttons\">\n",
              "\n",
              "  <div class=\"colab-df-container\">\n",
              "    <button class=\"colab-df-convert\" onclick=\"convertToInteractive('df-e358c980-7cba-4e81-9542-0938507f1781')\"\n",
              "            title=\"Convert this dataframe to an interactive table.\"\n",
              "            style=\"display:none;\">\n",
              "\n",
              "  <svg xmlns=\"http://www.w3.org/2000/svg\" height=\"24px\" viewBox=\"0 -960 960 960\">\n",
              "    <path d=\"M120-120v-720h720v720H120Zm60-500h600v-160H180v160Zm220 220h160v-160H400v160Zm0 220h160v-160H400v160ZM180-400h160v-160H180v160Zm440 0h160v-160H620v160ZM180-180h160v-160H180v160Zm440 0h160v-160H620v160Z\"/>\n",
              "  </svg>\n",
              "    </button>\n",
              "\n",
              "  <style>\n",
              "    .colab-df-container {\n",
              "      display:flex;\n",
              "      gap: 12px;\n",
              "    }\n",
              "\n",
              "    .colab-df-convert {\n",
              "      background-color: #E8F0FE;\n",
              "      border: none;\n",
              "      border-radius: 50%;\n",
              "      cursor: pointer;\n",
              "      display: none;\n",
              "      fill: #1967D2;\n",
              "      height: 32px;\n",
              "      padding: 0 0 0 0;\n",
              "      width: 32px;\n",
              "    }\n",
              "\n",
              "    .colab-df-convert:hover {\n",
              "      background-color: #E2EBFA;\n",
              "      box-shadow: 0px 1px 2px rgba(60, 64, 67, 0.3), 0px 1px 3px 1px rgba(60, 64, 67, 0.15);\n",
              "      fill: #174EA6;\n",
              "    }\n",
              "\n",
              "    .colab-df-buttons div {\n",
              "      margin-bottom: 4px;\n",
              "    }\n",
              "\n",
              "    [theme=dark] .colab-df-convert {\n",
              "      background-color: #3B4455;\n",
              "      fill: #D2E3FC;\n",
              "    }\n",
              "\n",
              "    [theme=dark] .colab-df-convert:hover {\n",
              "      background-color: #434B5C;\n",
              "      box-shadow: 0px 1px 3px 1px rgba(0, 0, 0, 0.15);\n",
              "      filter: drop-shadow(0px 1px 2px rgba(0, 0, 0, 0.3));\n",
              "      fill: #FFFFFF;\n",
              "    }\n",
              "  </style>\n",
              "\n",
              "    <script>\n",
              "      const buttonEl =\n",
              "        document.querySelector('#df-e358c980-7cba-4e81-9542-0938507f1781 button.colab-df-convert');\n",
              "      buttonEl.style.display =\n",
              "        google.colab.kernel.accessAllowed ? 'block' : 'none';\n",
              "\n",
              "      async function convertToInteractive(key) {\n",
              "        const element = document.querySelector('#df-e358c980-7cba-4e81-9542-0938507f1781');\n",
              "        const dataTable =\n",
              "          await google.colab.kernel.invokeFunction('convertToInteractive',\n",
              "                                                    [key], {});\n",
              "        if (!dataTable) return;\n",
              "\n",
              "        const docLinkHtml = 'Like what you see? Visit the ' +\n",
              "          '<a target=\"_blank\" href=https://colab.research.google.com/notebooks/data_table.ipynb>data table notebook</a>'\n",
              "          + ' to learn more about interactive tables.';\n",
              "        element.innerHTML = '';\n",
              "        dataTable['output_type'] = 'display_data';\n",
              "        await google.colab.output.renderOutput(dataTable, element);\n",
              "        const docLink = document.createElement('div');\n",
              "        docLink.innerHTML = docLinkHtml;\n",
              "        element.appendChild(docLink);\n",
              "      }\n",
              "    </script>\n",
              "  </div>\n",
              "\n",
              "\n",
              "<div id=\"df-2654802a-0735-415b-847d-af391e198b33\">\n",
              "  <button class=\"colab-df-quickchart\" onclick=\"quickchart('df-2654802a-0735-415b-847d-af391e198b33')\"\n",
              "            title=\"Suggest charts\"\n",
              "            style=\"display:none;\">\n",
              "\n",
              "<svg xmlns=\"http://www.w3.org/2000/svg\" height=\"24px\"viewBox=\"0 0 24 24\"\n",
              "     width=\"24px\">\n",
              "    <g>\n",
              "        <path d=\"M19 3H5c-1.1 0-2 .9-2 2v14c0 1.1.9 2 2 2h14c1.1 0 2-.9 2-2V5c0-1.1-.9-2-2-2zM9 17H7v-7h2v7zm4 0h-2V7h2v10zm4 0h-2v-4h2v4z\"/>\n",
              "    </g>\n",
              "</svg>\n",
              "  </button>\n",
              "\n",
              "<style>\n",
              "  .colab-df-quickchart {\n",
              "      --bg-color: #E8F0FE;\n",
              "      --fill-color: #1967D2;\n",
              "      --hover-bg-color: #E2EBFA;\n",
              "      --hover-fill-color: #174EA6;\n",
              "      --disabled-fill-color: #AAA;\n",
              "      --disabled-bg-color: #DDD;\n",
              "  }\n",
              "\n",
              "  [theme=dark] .colab-df-quickchart {\n",
              "      --bg-color: #3B4455;\n",
              "      --fill-color: #D2E3FC;\n",
              "      --hover-bg-color: #434B5C;\n",
              "      --hover-fill-color: #FFFFFF;\n",
              "      --disabled-bg-color: #3B4455;\n",
              "      --disabled-fill-color: #666;\n",
              "  }\n",
              "\n",
              "  .colab-df-quickchart {\n",
              "    background-color: var(--bg-color);\n",
              "    border: none;\n",
              "    border-radius: 50%;\n",
              "    cursor: pointer;\n",
              "    display: none;\n",
              "    fill: var(--fill-color);\n",
              "    height: 32px;\n",
              "    padding: 0;\n",
              "    width: 32px;\n",
              "  }\n",
              "\n",
              "  .colab-df-quickchart:hover {\n",
              "    background-color: var(--hover-bg-color);\n",
              "    box-shadow: 0 1px 2px rgba(60, 64, 67, 0.3), 0 1px 3px 1px rgba(60, 64, 67, 0.15);\n",
              "    fill: var(--button-hover-fill-color);\n",
              "  }\n",
              "\n",
              "  .colab-df-quickchart-complete:disabled,\n",
              "  .colab-df-quickchart-complete:disabled:hover {\n",
              "    background-color: var(--disabled-bg-color);\n",
              "    fill: var(--disabled-fill-color);\n",
              "    box-shadow: none;\n",
              "  }\n",
              "\n",
              "  .colab-df-spinner {\n",
              "    border: 2px solid var(--fill-color);\n",
              "    border-color: transparent;\n",
              "    border-bottom-color: var(--fill-color);\n",
              "    animation:\n",
              "      spin 1s steps(1) infinite;\n",
              "  }\n",
              "\n",
              "  @keyframes spin {\n",
              "    0% {\n",
              "      border-color: transparent;\n",
              "      border-bottom-color: var(--fill-color);\n",
              "      border-left-color: var(--fill-color);\n",
              "    }\n",
              "    20% {\n",
              "      border-color: transparent;\n",
              "      border-left-color: var(--fill-color);\n",
              "      border-top-color: var(--fill-color);\n",
              "    }\n",
              "    30% {\n",
              "      border-color: transparent;\n",
              "      border-left-color: var(--fill-color);\n",
              "      border-top-color: var(--fill-color);\n",
              "      border-right-color: var(--fill-color);\n",
              "    }\n",
              "    40% {\n",
              "      border-color: transparent;\n",
              "      border-right-color: var(--fill-color);\n",
              "      border-top-color: var(--fill-color);\n",
              "    }\n",
              "    60% {\n",
              "      border-color: transparent;\n",
              "      border-right-color: var(--fill-color);\n",
              "    }\n",
              "    80% {\n",
              "      border-color: transparent;\n",
              "      border-right-color: var(--fill-color);\n",
              "      border-bottom-color: var(--fill-color);\n",
              "    }\n",
              "    90% {\n",
              "      border-color: transparent;\n",
              "      border-bottom-color: var(--fill-color);\n",
              "    }\n",
              "  }\n",
              "</style>\n",
              "\n",
              "  <script>\n",
              "    async function quickchart(key) {\n",
              "      const quickchartButtonEl =\n",
              "        document.querySelector('#' + key + ' button');\n",
              "      quickchartButtonEl.disabled = true;  // To prevent multiple clicks.\n",
              "      quickchartButtonEl.classList.add('colab-df-spinner');\n",
              "      try {\n",
              "        const charts = await google.colab.kernel.invokeFunction(\n",
              "            'suggestCharts', [key], {});\n",
              "      } catch (error) {\n",
              "        console.error('Error during call to suggestCharts:', error);\n",
              "      }\n",
              "      quickchartButtonEl.classList.remove('colab-df-spinner');\n",
              "      quickchartButtonEl.classList.add('colab-df-quickchart-complete');\n",
              "    }\n",
              "    (() => {\n",
              "      let quickchartButtonEl =\n",
              "        document.querySelector('#df-2654802a-0735-415b-847d-af391e198b33 button');\n",
              "      quickchartButtonEl.style.display =\n",
              "        google.colab.kernel.accessAllowed ? 'block' : 'none';\n",
              "    })();\n",
              "  </script>\n",
              "</div>\n",
              "\n",
              "  <div id=\"id_0c708ae2-3ae0-4e6d-aa0b-68f56a01857c\">\n",
              "    <style>\n",
              "      .colab-df-generate {\n",
              "        background-color: #E8F0FE;\n",
              "        border: none;\n",
              "        border-radius: 50%;\n",
              "        cursor: pointer;\n",
              "        display: none;\n",
              "        fill: #1967D2;\n",
              "        height: 32px;\n",
              "        padding: 0 0 0 0;\n",
              "        width: 32px;\n",
              "      }\n",
              "\n",
              "      .colab-df-generate:hover {\n",
              "        background-color: #E2EBFA;\n",
              "        box-shadow: 0px 1px 2px rgba(60, 64, 67, 0.3), 0px 1px 3px 1px rgba(60, 64, 67, 0.15);\n",
              "        fill: #174EA6;\n",
              "      }\n",
              "\n",
              "      [theme=dark] .colab-df-generate {\n",
              "        background-color: #3B4455;\n",
              "        fill: #D2E3FC;\n",
              "      }\n",
              "\n",
              "      [theme=dark] .colab-df-generate:hover {\n",
              "        background-color: #434B5C;\n",
              "        box-shadow: 0px 1px 3px 1px rgba(0, 0, 0, 0.15);\n",
              "        filter: drop-shadow(0px 1px 2px rgba(0, 0, 0, 0.3));\n",
              "        fill: #FFFFFF;\n",
              "      }\n",
              "    </style>\n",
              "    <button class=\"colab-df-generate\" onclick=\"generateWithVariable('dfTrades')\"\n",
              "            title=\"Generate code using this dataframe.\"\n",
              "            style=\"display:none;\">\n",
              "\n",
              "  <svg xmlns=\"http://www.w3.org/2000/svg\" height=\"24px\"viewBox=\"0 0 24 24\"\n",
              "       width=\"24px\">\n",
              "    <path d=\"M7,19H8.4L18.45,9,17,7.55,7,17.6ZM5,21V16.75L18.45,3.32a2,2,0,0,1,2.83,0l1.4,1.43a1.91,1.91,0,0,1,.58,1.4,1.91,1.91,0,0,1-.58,1.4L9.25,21ZM18.45,9,17,7.55Zm-12,3A5.31,5.31,0,0,0,4.9,8.1,5.31,5.31,0,0,0,1,6.5,5.31,5.31,0,0,0,4.9,4.9,5.31,5.31,0,0,0,6.5,1,5.31,5.31,0,0,0,8.1,4.9,5.31,5.31,0,0,0,12,6.5,5.46,5.46,0,0,0,6.5,12Z\"/>\n",
              "  </svg>\n",
              "    </button>\n",
              "    <script>\n",
              "      (() => {\n",
              "      const buttonEl =\n",
              "        document.querySelector('#id_0c708ae2-3ae0-4e6d-aa0b-68f56a01857c button.colab-df-generate');\n",
              "      buttonEl.style.display =\n",
              "        google.colab.kernel.accessAllowed ? 'block' : 'none';\n",
              "\n",
              "      buttonEl.onclick = () => {\n",
              "        google.colab.notebook.generateWithVariable('dfTrades');\n",
              "      }\n",
              "      })();\n",
              "    </script>\n",
              "  </div>\n",
              "\n",
              "    </div>\n",
              "  </div>\n"
            ],
            "application/vnd.google.colaboratory.intrinsic+json": {
              "type": "dataframe",
              "variable_name": "dfTrades",
              "summary": "{\n  \"name\": \"dfTrades\",\n  \"rows\": 8760,\n  \"fields\": [\n    {\n      \"column\": \"DateTime\",\n      \"properties\": {\n        \"dtype\": \"date\",\n        \"min\": \"2011-02-01 08:00:09.059176+00:00\",\n        \"max\": \"2011-02-01 16:29:59.987777+00:00\",\n        \"num_unique_values\": 4489,\n        \"samples\": [\n          \"2011-02-01 08:17:09.832947+00:00\",\n          \"2011-02-01 16:13:21.267886+00:00\",\n          \"2011-02-01 10:05:35.058598+00:00\"\n        ],\n        \"semantic_type\": \"\",\n        \"description\": \"\"\n      }\n    },\n    {\n      \"column\": \"RIC\",\n      \"properties\": {\n        \"dtype\": \"category\",\n        \"num_unique_values\": 1,\n        \"samples\": [\n          \"GSK.L\"\n        ],\n        \"semantic_type\": \"\",\n        \"description\": \"\"\n      }\n    },\n    {\n      \"column\": \"Type\",\n      \"properties\": {\n        \"dtype\": \"category\",\n        \"num_unique_values\": 1,\n        \"samples\": [\n          \"Trade\"\n        ],\n        \"semantic_type\": \"\",\n        \"description\": \"\"\n      }\n    },\n    {\n      \"column\": \"Price\",\n      \"properties\": {\n        \"dtype\": \"number\",\n        \"std\": 7.453184808686636,\n        \"min\": 1123.0,\n        \"max\": 1147.1425,\n        \"num_unique_values\": 188,\n        \"samples\": [\n          1144.05\n        ],\n        \"semantic_type\": \"\",\n        \"description\": \"\"\n      }\n    },\n    {\n      \"column\": \"Volume\",\n      \"properties\": {\n        \"dtype\": \"number\",\n        \"std\": 4495.088567110014,\n        \"min\": 1.0,\n        \"max\": 220459.0,\n        \"num_unique_values\": 1959,\n        \"samples\": [\n          162.0\n        ],\n        \"semantic_type\": \"\",\n        \"description\": \"\"\n      }\n    },\n    {\n      \"column\": \"Bid_Price\",\n      \"properties\": {\n        \"dtype\": \"number\",\n        \"std\": 7.474037184767736,\n        \"min\": 1122.5,\n        \"max\": 1196.0,\n        \"num_unique_values\": 50,\n        \"samples\": [\n          1130.0\n        ],\n        \"semantic_type\": \"\",\n        \"description\": \"\"\n      }\n    },\n    {\n      \"column\": \"Bid_Size\",\n      \"properties\": {\n        \"dtype\": \"number\",\n        \"std\": null,\n        \"min\": null,\n        \"max\": null,\n        \"num_unique_values\": 0,\n        \"samples\": [],\n        \"semantic_type\": \"\",\n        \"description\": \"\"\n      }\n    },\n    {\n      \"column\": \"Ask_Price\",\n      \"properties\": {\n        \"dtype\": \"number\",\n        \"std\": 7.464672132573768,\n        \"min\": 1061.0,\n        \"max\": 1147.0,\n        \"num_unique_values\": 49,\n        \"samples\": [],\n        \"semantic_type\": \"\",\n        \"description\": \"\"\n      }\n    },\n    {\n      \"column\": \"Ask_Size\",\n      \"properties\": {\n        \"dtype\": \"number\",\n        \"std\": null,\n        \"min\": null,\n        \"max\": null,\n        \"num_unique_values\": 0,\n        \"samples\": [],\n        \"semantic_type\": \"\",\n        \"description\": \"\"\n      }\n    },\n    {\n      \"column\": \"Direction\",\n      \"properties\": {\n        \"dtype\": \"number\",\n        \"std\": 0,\n        \"min\": -1,\n        \"max\": 1,\n        \"num_unique_values\": 3,\n        \"samples\": [],\n        \"semantic_type\": \"\",\n        \"description\": \"\"\n      }\n    },\n    {\n      \"column\": \"Time_S\",\n      \"properties\": {\n        \"dtype\": \"number\",\n        \"std\": 9639.10904352717,\n        \"min\": 28809.059176,\n        \"max\": 59399.987777,\n        \"num_unique_values\": 4489,\n        \"samples\": [],\n        \"semantic_type\": \"\",\n        \"description\": \"\"\n      }\n    },\n    {\n      \"column\": \"Spread\",\n      \"properties\": {\n        \"dtype\": \"number\",\n        \"std\": 1.472797717066552,\n        \"min\": -135.0,\n        \"max\": 6.5,\n        \"num_unique_values\": 11,\n        \"samples\": [],\n        \"semantic_type\": \"\",\n        \"description\": \"\"\n      }\n    },\n    {\n      \"column\": \"Midquote\",\n      \"properties\": {\n        \"dtype\": \"number\",\n        \"std\": 7.432966948951737,\n        \"min\": 1123.0,\n        \"max\": 1146.75,\n        \"num_unique_values\": 92,\n        \"samples\": [],\n        \"semantic_type\": \"\",\n        \"description\": \"\"\n      }\n    },\n    {\n      \"column\": \"Seq\",\n      \"properties\": {\n        \"dtype\": \"number\",\n        \"std\": 16113,\n        \"min\": 89,\n        \"max\": 55345,\n        \"num_unique_values\": 8760,\n        \"samples\": [],\n        \"semantic_type\": \"\",\n        \"description\": \"\"\n      }\n    },\n    {\n      \"column\": \"NextMQ_tau_300\",\n      \"properties\": {\n        \"dtype\": \"number\",\n        \"std\": 0.0,\n        \"min\": 1128.5,\n        \"max\": 1128.5,\n        \"num_unique_values\": 1,\n        \"samples\": [],\n        \"semantic_type\": \"\",\n        \"description\": \"\"\n      }\n    }\n  ]\n}"
            }
          },
          "metadata": {},
          "execution_count": 18
        }
      ]
    },
    {
      "cell_type": "markdown",
      "source": [
        "## Q2.b Estimation of Coefficients"
      ],
      "metadata": {
        "id": "FEF3OGB98ZS2"
      }
    },
    {
      "cell_type": "code",
      "source": [
        "## define variables ##\n",
        "panel = pd.DataFrame()\n",
        "panel['d'] = dfTrades['Direction']                                        # Already exists\n",
        "panel['delta_d'] = dfTrades['Direction'] - dfTrades['Direction'].shift(1)\n",
        "panel['q'] = dfTrades['Direction'] * dfTrades['Volume']                   # Quantity can be rescaled by daily average trading volume\n",
        "panel['delta_q'] = panel['q'] - panel['q'].shift(1)\n",
        "panel['q_lag'] = panel['q'].shift(1)\n",
        "panel['p'] = dfTrades['Price']\n",
        "panel['delta_p'] = panel['p'] - panel['p'].shift(1)\n",
        "panel = panel.dropna()"
      ],
      "metadata": {
        "id": "99fXisypxgtT"
      },
      "execution_count": 19,
      "outputs": []
    },
    {
      "cell_type": "code",
      "source": [
        "## Regression ##\n",
        "# 2-way:\n",
        "# First Regression\n",
        "model1 = sm.OLS(panel['delta_p'], panel.iloc[ :, :2] )\n",
        "results1 = model1.fit()\n",
        "coeffs1=results1.params\n",
        "print(results1.summary())"
      ],
      "metadata": {
        "colab": {
          "base_uri": "https://localhost:8080/"
        },
        "id": "l8h8Z3r40jnF",
        "outputId": "7b99a5fc-90ae-497b-a6df-b9925efcdb49"
      },
      "execution_count": 20,
      "outputs": [
        {
          "output_type": "stream",
          "name": "stdout",
          "text": [
            "                                 OLS Regression Results                                \n",
            "=======================================================================================\n",
            "Dep. Variable:                delta_p   R-squared (uncentered):                   0.144\n",
            "Model:                            OLS   Adj. R-squared (uncentered):              0.144\n",
            "Method:                 Least Squares   F-statistic:                              738.1\n",
            "Date:                Thu, 03 Apr 2025   Prob (F-statistic):                   6.01e-297\n",
            "Time:                        10:15:00   Log-Likelihood:                         -2405.8\n",
            "No. Observations:                8759   AIC:                                      4816.\n",
            "Df Residuals:                    8757   BIC:                                      4830.\n",
            "Df Model:                           2                                                  \n",
            "Covariance Type:            nonrobust                                                  \n",
            "==============================================================================\n",
            "                 coef    std err          t      P>|t|      [0.025      0.975]\n",
            "------------------------------------------------------------------------------\n",
            "d              0.0169      0.004      4.564      0.000       0.010       0.024\n",
            "delta_d        0.1622      0.005     33.517      0.000       0.153       0.172\n",
            "==============================================================================\n",
            "Omnibus:                     4444.742   Durbin-Watson:                   2.788\n",
            "Prob(Omnibus):                  0.000   Jarque-Bera (JB):         63247003.754\n",
            "Skew:                          -0.340   Prob(JB):                         0.00\n",
            "Kurtosis:                     419.292   Cond. No.                         1.63\n",
            "==============================================================================\n",
            "\n",
            "Notes:\n",
            "[1] R² is computed without centering (uncentered) since the model does not contain a constant.\n",
            "[2] Standard Errors assume that the covariance matrix of the errors is correctly specified.\n"
          ]
        }
      ]
    },
    {
      "cell_type": "markdown",
      "source": [
        "## Q2.d Estimation of Coefficients, Two Equations"
      ],
      "metadata": {
        "id": "Cyjjd_a_8fMG"
      }
    },
    {
      "cell_type": "code",
      "source": [
        "# 3-way\n",
        "equations = {\n",
        "    'eq1': 'q ~ q_lag',                     # Equation 1: AR(1) for q_t\n",
        "    'eq2': 'delta_p ~ q + q_lag + delta_d'} # Equation 2: Price impact regression\n",
        "\n",
        "# Fit the SUR model\n",
        "sur_model = SUR.from_formula(equations, panel)\n",
        "results = sur_model.fit()\n",
        "print(results.summary)"
      ],
      "metadata": {
        "colab": {
          "base_uri": "https://localhost:8080/"
        },
        "id": "8h0kiXvF33D9",
        "outputId": "706304cb-d50e-4b0f-dc36-afec99dd9990"
      },
      "execution_count": 21,
      "outputs": [
        {
          "output_type": "stream",
          "name": "stdout",
          "text": [
            "                           System GLS Estimation Summary                           \n",
            "===================================================================================\n",
            "Estimator:                        GLS   Overall R-squared:                   0.0014\n",
            "No. Equations.:                     2   McElroy's R-squared:                 0.0896\n",
            "No. Observations:                8759   Judge's (OLS) R-squared:             0.0013\n",
            "Date:                Thu, Apr 03 2025   Berndt's R-squared:                  0.1453\n",
            "Time:                        10:15:00   Dhrymes's R-squared:                 0.0014\n",
            "                                        Cov. Estimator:                      robust\n",
            "                                        Num. Constraints:                      None\n",
            "                     Equation: eq1, Dependent Variable: q                     \n",
            "==============================================================================\n",
            "            Parameter  Std. Err.     T-stat    P-value    Lower CI    Upper CI\n",
            "------------------------------------------------------------------------------\n",
            "q_lag          0.0367     0.0141     2.6064     0.0092      0.0091      0.0643\n",
            "                  Equation: eq2, Dependent Variable: delta_p                  \n",
            "==============================================================================\n",
            "            Parameter  Std. Err.     T-stat    P-value    Lower CI    Upper CI\n",
            "------------------------------------------------------------------------------\n",
            "q           9.056e-06  6.529e-06     1.3870     0.1655  -3.741e-06   2.185e-05\n",
            "q_lag       -7.03e-06  5.904e-06    -1.1906     0.2338   -1.86e-05   4.543e-06\n",
            "delta_d        0.1613     0.0066     24.267     0.0000      0.1483      0.1743\n",
            "==============================================================================\n",
            "\n",
            "Covariance Estimator:\n",
            "Heteroskedastic (Robust) Covariance (Debiased: False, GLS: True)\n"
          ]
        }
      ]
    },
    {
      "cell_type": "code",
      "source": [
        "print(results.params)"
      ],
      "metadata": {
        "colab": {
          "base_uri": "https://localhost:8080/"
        },
        "id": "E_RfJZ4nGgHW",
        "outputId": "786a3999-772d-404e-acd7-1d75d8b5deb1"
      },
      "execution_count": 22,
      "outputs": [
        {
          "output_type": "stream",
          "name": "stdout",
          "text": [
            "eq1_q_lag      0.036682\n",
            "eq2_q          0.000009\n",
            "eq2_q_lag     -0.000007\n",
            "eq2_delta_d    0.161276\n",
            "Name: params, dtype: float64\n"
          ]
        }
      ]
    },
    {
      "cell_type": "code",
      "source": [
        "# Extract coefficients\n",
        "phi      = results.params['eq1_q_lag']     # phi\n",
        "b_q      = results.params['eq2_q']         # (lambda + beta)\n",
        "b_q_lag  = results.params['eq2_q_lag']     # -lambda * phi\n",
        "gamma    = results.params['eq2_delta_d']   # gamma\n",
        "\n",
        "# Calculate lambda and beta\n",
        "lambda_ = - b_q_lag / phi\n",
        "beta = b_q - lambda_\n",
        "\n",
        "# Print everything\n",
        "print(f\"phi     = {phi:.6f}\")\n",
        "print(f\"lambda  = {lambda_:.6f}\")\n",
        "print(f\"beta    = {beta:.6f}\")\n",
        "print(f\"gamma   = {gamma:.6f}\")"
      ],
      "metadata": {
        "colab": {
          "base_uri": "https://localhost:8080/"
        },
        "id": "5rVNCCYTGVH2",
        "outputId": "a5d37017-1527-410a-c4ab-1ac732953ae0"
      },
      "execution_count": 23,
      "outputs": [
        {
          "output_type": "stream",
          "name": "stdout",
          "text": [
            "phi     = 0.036682\n",
            "lambda  = 0.000192\n",
            "beta    = -0.000183\n",
            "gamma   = 0.161276\n"
          ]
        }
      ]
    },
    {
      "cell_type": "code",
      "source": [],
      "metadata": {
        "id": "5tmGvd_5GXqs"
      },
      "execution_count": 23,
      "outputs": []
    }
  ]
}